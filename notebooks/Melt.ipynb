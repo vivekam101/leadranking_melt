{
 "cells": [
  {
   "cell_type": "code",
   "execution_count": 61,
   "metadata": {},
   "outputs": [],
   "source": [
    "import pandas as pd\n",
    "import numpy as np\n",
    "import xlrd"
   ]
  },
  {
   "cell_type": "code",
   "execution_count": 97,
   "metadata": {},
   "outputs": [],
   "source": [
    "df = pd.read_excel(\"melt_data.xlsx\")"
   ]
  },
  {
   "cell_type": "code",
   "execution_count": 98,
   "metadata": {},
   "outputs": [
    {
     "data": {
      "text/html": [
       "<div>\n",
       "<style scoped>\n",
       "    .dataframe tbody tr th:only-of-type {\n",
       "        vertical-align: middle;\n",
       "    }\n",
       "\n",
       "    .dataframe tbody tr th {\n",
       "        vertical-align: top;\n",
       "    }\n",
       "\n",
       "    .dataframe thead th {\n",
       "        text-align: right;\n",
       "    }\n",
       "</style>\n",
       "<table border=\"1\" class=\"dataframe\">\n",
       "  <thead>\n",
       "    <tr style=\"text-align: right;\">\n",
       "      <th></th>\n",
       "      <th>InteractionsBeforeEnrollment</th>\n",
       "      <th>LeadCategory</th>\n",
       "      <th>LeadSource</th>\n",
       "      <th>LeadSubCategory</th>\n",
       "      <th>Is_mobileno_given</th>\n",
       "      <th>OwnerId</th>\n",
       "      <th>Status</th>\n",
       "      <th>Is_telephoneno_given</th>\n",
       "      <th>confirminterest</th>\n",
       "      <th>leadid</th>\n",
       "      <th>...</th>\n",
       "      <th>motivation</th>\n",
       "      <th>batch_code</th>\n",
       "      <th>dropout_history</th>\n",
       "      <th>mentor</th>\n",
       "      <th>instructor_name</th>\n",
       "      <th>instructor_department</th>\n",
       "      <th>full_access_trial</th>\n",
       "      <th>prerequisite_details</th>\n",
       "      <th>help_from_peers</th>\n",
       "      <th>FAQ</th>\n",
       "    </tr>\n",
       "  </thead>\n",
       "  <tbody>\n",
       "    <tr>\n",
       "      <th>0</th>\n",
       "      <td>0</td>\n",
       "      <td>Website</td>\n",
       "      <td>Website</td>\n",
       "      <td>Referral</td>\n",
       "      <td>NO</td>\n",
       "      <td>Bryan Oliver</td>\n",
       "      <td>Non-melt</td>\n",
       "      <td>YES</td>\n",
       "      <td>False</td>\n",
       "      <td>2aa5f87c-555a-e411-80bf-00155dcfd953</td>\n",
       "      <td>...</td>\n",
       "      <td>YES</td>\n",
       "      <td>8</td>\n",
       "      <td>YES</td>\n",
       "      <td>Cathy McKay</td>\n",
       "      <td>Carmen Dallas</td>\n",
       "      <td>Administration</td>\n",
       "      <td>YES</td>\n",
       "      <td>YES</td>\n",
       "      <td>YES</td>\n",
       "      <td>YES</td>\n",
       "    </tr>\n",
       "    <tr>\n",
       "      <th>1</th>\n",
       "      <td>0</td>\n",
       "      <td>Website</td>\n",
       "      <td>Website</td>\n",
       "      <td>Application</td>\n",
       "      <td>NO</td>\n",
       "      <td>Bryan Oliver</td>\n",
       "      <td>Non-melt</td>\n",
       "      <td>YES</td>\n",
       "      <td>False</td>\n",
       "      <td>31a5f87c-555a-e411-80bf-00155dcfd953</td>\n",
       "      <td>...</td>\n",
       "      <td>YES</td>\n",
       "      <td>10</td>\n",
       "      <td>NO</td>\n",
       "      <td>Tiffany Hamlett</td>\n",
       "      <td>Dennis Ratliff</td>\n",
       "      <td>Teaching</td>\n",
       "      <td>YES</td>\n",
       "      <td>YES</td>\n",
       "      <td>YES</td>\n",
       "      <td>YES</td>\n",
       "    </tr>\n",
       "    <tr>\n",
       "      <th>2</th>\n",
       "      <td>0</td>\n",
       "      <td>Website</td>\n",
       "      <td>Website</td>\n",
       "      <td>Application</td>\n",
       "      <td>YES</td>\n",
       "      <td>James Anderson</td>\n",
       "      <td>Non-melt</td>\n",
       "      <td>YES</td>\n",
       "      <td>False</td>\n",
       "      <td>68a5f87c-555a-e411-80bf-00155dcfd953</td>\n",
       "      <td>...</td>\n",
       "      <td>YES</td>\n",
       "      <td>5</td>\n",
       "      <td>NO</td>\n",
       "      <td>Crystal Neumann</td>\n",
       "      <td>Raymond Velez</td>\n",
       "      <td>Education</td>\n",
       "      <td>YES</td>\n",
       "      <td>YES</td>\n",
       "      <td>NO</td>\n",
       "      <td>YES</td>\n",
       "    </tr>\n",
       "    <tr>\n",
       "      <th>3</th>\n",
       "      <td>0</td>\n",
       "      <td>Website</td>\n",
       "      <td>Website</td>\n",
       "      <td>Application</td>\n",
       "      <td>YES</td>\n",
       "      <td>Larry User</td>\n",
       "      <td>Non-melt</td>\n",
       "      <td>YES</td>\n",
       "      <td>False</td>\n",
       "      <td>6fa5f87c-555a-e411-80bf-00155dcfd953</td>\n",
       "      <td>...</td>\n",
       "      <td>YES</td>\n",
       "      <td>1</td>\n",
       "      <td>NO</td>\n",
       "      <td>Tiffany Hamlett</td>\n",
       "      <td>Fawzia Boling</td>\n",
       "      <td>Administration</td>\n",
       "      <td>YES</td>\n",
       "      <td>YES</td>\n",
       "      <td>YES</td>\n",
       "      <td>NO</td>\n",
       "    </tr>\n",
       "    <tr>\n",
       "      <th>4</th>\n",
       "      <td>0</td>\n",
       "      <td>Website</td>\n",
       "      <td>Website</td>\n",
       "      <td>Application</td>\n",
       "      <td>YES</td>\n",
       "      <td>Larry User</td>\n",
       "      <td>Melt</td>\n",
       "      <td>YES</td>\n",
       "      <td>False</td>\n",
       "      <td>76a5f87c-555a-e411-80bf-00155dcfd953</td>\n",
       "      <td>...</td>\n",
       "      <td>NO</td>\n",
       "      <td>3</td>\n",
       "      <td>YES</td>\n",
       "      <td>Debbie Beck</td>\n",
       "      <td>Jason Hutchinson</td>\n",
       "      <td>Administration</td>\n",
       "      <td>YES</td>\n",
       "      <td>NO</td>\n",
       "      <td>NO</td>\n",
       "      <td>NO</td>\n",
       "    </tr>\n",
       "  </tbody>\n",
       "</table>\n",
       "<p>5 rows × 25 columns</p>\n",
       "</div>"
      ],
      "text/plain": [
       "   InteractionsBeforeEnrollment LeadCategory LeadSource LeadSubCategory  \\\n",
       "0                             0      Website    Website        Referral   \n",
       "1                             0      Website    Website     Application   \n",
       "2                             0      Website    Website     Application   \n",
       "3                             0      Website    Website     Application   \n",
       "4                             0      Website    Website     Application   \n",
       "\n",
       "  Is_mobileno_given         OwnerId    Status Is_telephoneno_given  \\\n",
       "0                NO    Bryan Oliver  Non-melt                  YES   \n",
       "1                NO    Bryan Oliver  Non-melt                  YES   \n",
       "2               YES  James Anderson  Non-melt                  YES   \n",
       "3               YES      Larry User  Non-melt                  YES   \n",
       "4               YES      Larry User      Melt                  YES   \n",
       "\n",
       "   confirminterest                                leadid ...   motivation  \\\n",
       "0            False  2aa5f87c-555a-e411-80bf-00155dcfd953 ...          YES   \n",
       "1            False  31a5f87c-555a-e411-80bf-00155dcfd953 ...          YES   \n",
       "2            False  68a5f87c-555a-e411-80bf-00155dcfd953 ...          YES   \n",
       "3            False  6fa5f87c-555a-e411-80bf-00155dcfd953 ...          YES   \n",
       "4            False  76a5f87c-555a-e411-80bf-00155dcfd953 ...           NO   \n",
       "\n",
       "  batch_code dropout_history           mentor   instructor_name  \\\n",
       "0          8             YES      Cathy McKay     Carmen Dallas   \n",
       "1         10              NO  Tiffany Hamlett    Dennis Ratliff   \n",
       "2          5              NO  Crystal Neumann     Raymond Velez   \n",
       "3          1              NO  Tiffany Hamlett     Fawzia Boling   \n",
       "4          3             YES      Debbie Beck  Jason Hutchinson   \n",
       "\n",
       "  instructor_department  full_access_trial prerequisite_details  \\\n",
       "0        Administration                YES                  YES   \n",
       "1              Teaching                YES                  YES   \n",
       "2             Education                YES                  YES   \n",
       "3        Administration                YES                  YES   \n",
       "4        Administration                YES                   NO   \n",
       "\n",
       "  help_from_peers  FAQ  \n",
       "0             YES  YES  \n",
       "1             YES  YES  \n",
       "2              NO  YES  \n",
       "3             YES   NO  \n",
       "4              NO   NO  \n",
       "\n",
       "[5 rows x 25 columns]"
      ]
     },
     "execution_count": 98,
     "metadata": {},
     "output_type": "execute_result"
    }
   ],
   "source": [
    "df.head()"
   ]
  },
  {
   "cell_type": "code",
   "execution_count": 99,
   "metadata": {},
   "outputs": [],
   "source": [
    "# df.columns"
   ]
  },
  {
   "cell_type": "code",
   "execution_count": 133,
   "metadata": {},
   "outputs": [
    {
     "data": {
      "text/plain": [
       "False    34387\n",
       "Name: FAQ, dtype: int64"
      ]
     },
     "execution_count": 133,
     "metadata": {},
     "output_type": "execute_result"
    }
   ],
   "source": [
    "df.FAQ.value_counts()"
   ]
  },
  {
   "cell_type": "code",
   "execution_count": 101,
   "metadata": {},
   "outputs": [],
   "source": [
    "df.LeadCategory=df.LeadCategory.fillna(\"Other\")\n",
    "df.LeadSubCategory=df.LeadSubCategory.fillna(\"Other\")\n",
    "df.LeadSource=df.LeadSource.fillna(\"Other\")\n",
    "df.mentor=df.mentor.fillna(\"Other\")"
   ]
  },
  {
   "cell_type": "code",
   "execution_count": 102,
   "metadata": {},
   "outputs": [],
   "source": [
    "df.LeadCategory=df.LeadCategory.str.lower()\n",
    "df.LeadSubCategory=df.LeadSubCategory.str.lower()\n",
    "df.LeadSource=df.LeadSource.str.lower()\n",
    "df.mentor=df.mentor.str.lower()\n",
    "df.experience_level=df.experience_level.str.lower()"
   ]
  },
  {
   "cell_type": "code",
   "execution_count": 135,
   "metadata": {},
   "outputs": [],
   "source": [
    "selected_fields=['experience_level','batch_code','mentor','Status']"
   ]
  },
  {
   "cell_type": "code",
   "execution_count": 137,
   "metadata": {},
   "outputs": [
    {
     "name": "stdout",
     "output_type": "stream",
     "text": [
      "experience_level 2    20575\n",
      "1     6952\n",
      "0     6860\n",
      "Name: experience_level, dtype: int64\n",
      "batch_code 4    3513\n",
      "2    3493\n",
      "0    3467\n",
      "8    3464\n",
      "7    3463\n",
      "6    3447\n",
      "5    3438\n",
      "9    3407\n",
      "1    3365\n",
      "3    3330\n",
      "Name: batch_code, dtype: int64\n",
      "mentor 0    6820\n",
      "1    6758\n",
      "2    6741\n",
      "5    6717\n",
      "3    6712\n",
      "4     639\n",
      "Name: mentor, dtype: int64\n",
      "Status 1    27510\n",
      "0     6877\n",
      "Name: Status, dtype: int64\n"
     ]
    }
   ],
   "source": [
    "for _col in selected_fields:\n",
    "    print(_col, df[_col].value_counts())"
   ]
  },
  {
   "cell_type": "code",
   "execution_count": 138,
   "metadata": {},
   "outputs": [],
   "source": [
    "df.financial_aid = df.financial_aid.astype(bool)\n",
    "df.motivation = df.motivation.astype(bool)\n",
    "df.dropout_history = df.dropout_history.astype(bool)\n",
    "df.full_access_trial = df.full_access_trial.astype(bool)\n",
    "df.prerequisite_details= df.prerequisite_details.astype(bool)\n",
    "df.help_from_peers = df.help_from_peers.astype(bool)\n",
    "df.FAQ = df.FAQ.astype(bool)"
   ]
  },
  {
   "cell_type": "code",
   "execution_count": 139,
   "metadata": {},
   "outputs": [],
   "source": [
    "df = df[selected_fields]"
   ]
  },
  {
   "cell_type": "code",
   "execution_count": 140,
   "metadata": {},
   "outputs": [
    {
     "data": {
      "text/html": [
       "<div>\n",
       "<style scoped>\n",
       "    .dataframe tbody tr th:only-of-type {\n",
       "        vertical-align: middle;\n",
       "    }\n",
       "\n",
       "    .dataframe tbody tr th {\n",
       "        vertical-align: top;\n",
       "    }\n",
       "\n",
       "    .dataframe thead th {\n",
       "        text-align: right;\n",
       "    }\n",
       "</style>\n",
       "<table border=\"1\" class=\"dataframe\">\n",
       "  <thead>\n",
       "    <tr style=\"text-align: right;\">\n",
       "      <th></th>\n",
       "      <th>experience_level</th>\n",
       "      <th>batch_code</th>\n",
       "      <th>mentor</th>\n",
       "      <th>Status</th>\n",
       "    </tr>\n",
       "  </thead>\n",
       "  <tbody>\n",
       "    <tr>\n",
       "      <th>0</th>\n",
       "      <td>2</td>\n",
       "      <td>7</td>\n",
       "      <td>1</td>\n",
       "      <td>1</td>\n",
       "    </tr>\n",
       "    <tr>\n",
       "      <th>1</th>\n",
       "      <td>2</td>\n",
       "      <td>9</td>\n",
       "      <td>5</td>\n",
       "      <td>1</td>\n",
       "    </tr>\n",
       "    <tr>\n",
       "      <th>2</th>\n",
       "      <td>2</td>\n",
       "      <td>4</td>\n",
       "      <td>2</td>\n",
       "      <td>1</td>\n",
       "    </tr>\n",
       "    <tr>\n",
       "      <th>3</th>\n",
       "      <td>2</td>\n",
       "      <td>0</td>\n",
       "      <td>5</td>\n",
       "      <td>1</td>\n",
       "    </tr>\n",
       "    <tr>\n",
       "      <th>4</th>\n",
       "      <td>2</td>\n",
       "      <td>2</td>\n",
       "      <td>3</td>\n",
       "      <td>0</td>\n",
       "    </tr>\n",
       "  </tbody>\n",
       "</table>\n",
       "</div>"
      ],
      "text/plain": [
       "   experience_level  batch_code  mentor  Status\n",
       "0                 2           7       1       1\n",
       "1                 2           9       5       1\n",
       "2                 2           4       2       1\n",
       "3                 2           0       5       1\n",
       "4                 2           2       3       0"
      ]
     },
     "execution_count": 140,
     "metadata": {},
     "output_type": "execute_result"
    }
   ],
   "source": [
    "df.head()"
   ]
  },
  {
   "cell_type": "code",
   "execution_count": 141,
   "metadata": {},
   "outputs": [],
   "source": [
    "from sklearn import preprocessing\n",
    "le = preprocessing.LabelEncoder()\n",
    "df = df.apply(le.fit_transform)\n",
    "# le.fit(df.Status)\n",
    "# le.classes_"
   ]
  },
  {
   "cell_type": "code",
   "execution_count": 142,
   "metadata": {},
   "outputs": [],
   "source": [
    "# Load scikit's random forest classifier library\n",
    "from sklearn.ensemble import RandomForestClassifier\n",
    "np.random.seed(7)"
   ]
  },
  {
   "cell_type": "code",
   "execution_count": 143,
   "metadata": {},
   "outputs": [
    {
     "data": {
      "text/html": [
       "<div>\n",
       "<style scoped>\n",
       "    .dataframe tbody tr th:only-of-type {\n",
       "        vertical-align: middle;\n",
       "    }\n",
       "\n",
       "    .dataframe tbody tr th {\n",
       "        vertical-align: top;\n",
       "    }\n",
       "\n",
       "    .dataframe thead th {\n",
       "        text-align: right;\n",
       "    }\n",
       "</style>\n",
       "<table border=\"1\" class=\"dataframe\">\n",
       "  <thead>\n",
       "    <tr style=\"text-align: right;\">\n",
       "      <th></th>\n",
       "      <th>experience_level</th>\n",
       "      <th>batch_code</th>\n",
       "      <th>mentor</th>\n",
       "      <th>Status</th>\n",
       "    </tr>\n",
       "  </thead>\n",
       "  <tbody>\n",
       "    <tr>\n",
       "      <th>0</th>\n",
       "      <td>2</td>\n",
       "      <td>7</td>\n",
       "      <td>1</td>\n",
       "      <td>1</td>\n",
       "    </tr>\n",
       "    <tr>\n",
       "      <th>1</th>\n",
       "      <td>2</td>\n",
       "      <td>9</td>\n",
       "      <td>5</td>\n",
       "      <td>1</td>\n",
       "    </tr>\n",
       "    <tr>\n",
       "      <th>2</th>\n",
       "      <td>2</td>\n",
       "      <td>4</td>\n",
       "      <td>2</td>\n",
       "      <td>1</td>\n",
       "    </tr>\n",
       "    <tr>\n",
       "      <th>3</th>\n",
       "      <td>2</td>\n",
       "      <td>0</td>\n",
       "      <td>5</td>\n",
       "      <td>1</td>\n",
       "    </tr>\n",
       "    <tr>\n",
       "      <th>4</th>\n",
       "      <td>2</td>\n",
       "      <td>2</td>\n",
       "      <td>3</td>\n",
       "      <td>0</td>\n",
       "    </tr>\n",
       "  </tbody>\n",
       "</table>\n",
       "</div>"
      ],
      "text/plain": [
       "   experience_level  batch_code  mentor  Status\n",
       "0                 2           7       1       1\n",
       "1                 2           9       5       1\n",
       "2                 2           4       2       1\n",
       "3                 2           0       5       1\n",
       "4                 2           2       3       0"
      ]
     },
     "execution_count": 143,
     "metadata": {},
     "output_type": "execute_result"
    }
   ],
   "source": [
    "df.head()"
   ]
  },
  {
   "cell_type": "code",
   "execution_count": 144,
   "metadata": {},
   "outputs": [
    {
     "data": {
      "text/html": [
       "<div>\n",
       "<style scoped>\n",
       "    .dataframe tbody tr th:only-of-type {\n",
       "        vertical-align: middle;\n",
       "    }\n",
       "\n",
       "    .dataframe tbody tr th {\n",
       "        vertical-align: top;\n",
       "    }\n",
       "\n",
       "    .dataframe thead th {\n",
       "        text-align: right;\n",
       "    }\n",
       "</style>\n",
       "<table border=\"1\" class=\"dataframe\">\n",
       "  <thead>\n",
       "    <tr style=\"text-align: right;\">\n",
       "      <th></th>\n",
       "      <th>experience_level</th>\n",
       "      <th>batch_code</th>\n",
       "      <th>mentor</th>\n",
       "      <th>Status</th>\n",
       "    </tr>\n",
       "  </thead>\n",
       "  <tbody>\n",
       "    <tr>\n",
       "      <th>count</th>\n",
       "      <td>34387.000000</td>\n",
       "      <td>34387.000000</td>\n",
       "      <td>34387.000000</td>\n",
       "      <td>34387.000000</td>\n",
       "    </tr>\n",
       "    <tr>\n",
       "      <th>mean</th>\n",
       "      <td>1.398843</td>\n",
       "      <td>4.504057</td>\n",
       "      <td>2.225172</td>\n",
       "      <td>0.800012</td>\n",
       "    </tr>\n",
       "    <tr>\n",
       "      <th>std</th>\n",
       "      <td>0.799233</td>\n",
       "      <td>2.870406</td>\n",
       "      <td>1.722433</td>\n",
       "      <td>0.399997</td>\n",
       "    </tr>\n",
       "    <tr>\n",
       "      <th>min</th>\n",
       "      <td>0.000000</td>\n",
       "      <td>0.000000</td>\n",
       "      <td>0.000000</td>\n",
       "      <td>0.000000</td>\n",
       "    </tr>\n",
       "    <tr>\n",
       "      <th>25%</th>\n",
       "      <td>1.000000</td>\n",
       "      <td>2.000000</td>\n",
       "      <td>1.000000</td>\n",
       "      <td>1.000000</td>\n",
       "    </tr>\n",
       "    <tr>\n",
       "      <th>50%</th>\n",
       "      <td>2.000000</td>\n",
       "      <td>5.000000</td>\n",
       "      <td>2.000000</td>\n",
       "      <td>1.000000</td>\n",
       "    </tr>\n",
       "    <tr>\n",
       "      <th>75%</th>\n",
       "      <td>2.000000</td>\n",
       "      <td>7.000000</td>\n",
       "      <td>3.000000</td>\n",
       "      <td>1.000000</td>\n",
       "    </tr>\n",
       "    <tr>\n",
       "      <th>max</th>\n",
       "      <td>2.000000</td>\n",
       "      <td>9.000000</td>\n",
       "      <td>5.000000</td>\n",
       "      <td>1.000000</td>\n",
       "    </tr>\n",
       "  </tbody>\n",
       "</table>\n",
       "</div>"
      ],
      "text/plain": [
       "       experience_level    batch_code        mentor        Status\n",
       "count      34387.000000  34387.000000  34387.000000  34387.000000\n",
       "mean           1.398843      4.504057      2.225172      0.800012\n",
       "std            0.799233      2.870406      1.722433      0.399997\n",
       "min            0.000000      0.000000      0.000000      0.000000\n",
       "25%            1.000000      2.000000      1.000000      1.000000\n",
       "50%            2.000000      5.000000      2.000000      1.000000\n",
       "75%            2.000000      7.000000      3.000000      1.000000\n",
       "max            2.000000      9.000000      5.000000      1.000000"
      ]
     },
     "execution_count": 144,
     "metadata": {},
     "output_type": "execute_result"
    }
   ],
   "source": [
    "df.describe()"
   ]
  },
  {
   "cell_type": "markdown",
   "metadata": {},
   "source": [
    "#  RF"
   ]
  },
  {
   "cell_type": "code",
   "execution_count": 145,
   "metadata": {},
   "outputs": [
    {
     "name": "stderr",
     "output_type": "stream",
     "text": [
      "/home/maheshdivakaran/anaconda3/envs/suyati/lib/python3.6/site-packages/ipykernel_launcher.py:4: DeprecationWarning: \n",
      ".ix is deprecated. Please use\n",
      ".loc for label based indexing or\n",
      ".iloc for positional indexing\n",
      "\n",
      "See the documentation here:\n",
      "http://pandas.pydata.org/pandas-docs/stable/indexing.html#ix-indexer-is-deprecated\n",
      "  after removing the cwd from sys.path.\n"
     ]
    }
   ],
   "source": [
    "from sklearn.model_selection import train_test_split\n",
    "feature_names = df.columns[:-1] \n",
    "# target_names = df.columns[-1:]\n",
    "X_train, X_test, y_train, y_test = train_test_split(df.ix[:,0:-1], df.ix[:,-1:], test_size=0.20, random_state=42)"
   ]
  },
  {
   "cell_type": "code",
   "execution_count": 147,
   "metadata": {},
   "outputs": [],
   "source": [
    "clf = RandomForestClassifier(max_depth=3, n_estimators=1000, random_state=13)"
   ]
  },
  {
   "cell_type": "code",
   "execution_count": 148,
   "metadata": {},
   "outputs": [
    {
     "name": "stderr",
     "output_type": "stream",
     "text": [
      "/home/maheshdivakaran/anaconda3/envs/suyati/lib/python3.6/site-packages/ipykernel_launcher.py:1: DataConversionWarning: A column-vector y was passed when a 1d array was expected. Please change the shape of y to (n_samples,), for example using ravel().\n",
      "  \"\"\"Entry point for launching an IPython kernel.\n"
     ]
    },
    {
     "data": {
      "text/plain": [
       "RandomForestClassifier(bootstrap=True, class_weight=None, criterion='gini',\n",
       "            max_depth=3, max_features='auto', max_leaf_nodes=None,\n",
       "            min_impurity_decrease=0.0, min_impurity_split=None,\n",
       "            min_samples_leaf=1, min_samples_split=2,\n",
       "            min_weight_fraction_leaf=0.0, n_estimators=1000, n_jobs=1,\n",
       "            oob_score=False, random_state=13, verbose=0, warm_start=False)"
      ]
     },
     "execution_count": 148,
     "metadata": {},
     "output_type": "execute_result"
    }
   ],
   "source": [
    "clf.fit(X_train, y_train)"
   ]
  },
  {
   "cell_type": "code",
   "execution_count": 149,
   "metadata": {},
   "outputs": [
    {
     "data": {
      "text/plain": [
       "batch_code          0.459162\n",
       "mentor              0.280665\n",
       "experience_level    0.260173\n",
       "dtype: float64"
      ]
     },
     "execution_count": 149,
     "metadata": {},
     "output_type": "execute_result"
    }
   ],
   "source": [
    "feature_imp = pd.Series(clf.feature_importances_,index=feature_names).sort_values(ascending=False)\n",
    "feature_imp"
   ]
  },
  {
   "cell_type": "code",
   "execution_count": 150,
   "metadata": {},
   "outputs": [
    {
     "name": "stdout",
     "output_type": "stream",
     "text": [
      "Accuracy: 0.8070660075603373\n"
     ]
    }
   ],
   "source": [
    "from sklearn.metrics import accuracy_score\n",
    "from sklearn.metrics import confusion_matrix\n",
    "#Import scikit-learn metrics module for accuracy calculation\n",
    "from sklearn import metrics\n",
    "# Model Accuracy, how often is the classifier correct?\n",
    "# prediction on test set\n",
    "y_pred=clf.predict(X_test)\n",
    "print(\"Accuracy:\",metrics.accuracy_score(y_pred, y_test))\n"
   ]
  },
  {
   "cell_type": "code",
   "execution_count": 156,
   "metadata": {},
   "outputs": [
    {
     "data": {
      "text/plain": [
       "array([1])"
      ]
     },
     "execution_count": 156,
     "metadata": {},
     "output_type": "execute_result"
    }
   ],
   "source": [
    "clf.predict([[0,1,5]])"
   ]
  },
  {
   "cell_type": "code",
   "execution_count": null,
   "metadata": {},
   "outputs": [],
   "source": []
  },
  {
   "cell_type": "code",
   "execution_count": null,
   "metadata": {},
   "outputs": [],
   "source": []
  },
  {
   "cell_type": "code",
   "execution_count": 151,
   "metadata": {},
   "outputs": [],
   "source": [
    "from sklearn import tree"
   ]
  },
  {
   "cell_type": "code",
   "execution_count": 86,
   "metadata": {},
   "outputs": [],
   "source": [
    "clf = tree.DecisionTreeClassifier()\n",
    "clf = clf.fit(X_train, y_train)"
   ]
  },
  {
   "cell_type": "code",
   "execution_count": 89,
   "metadata": {},
   "outputs": [
    {
     "data": {
      "text/plain": [
       "'ACE.pdf'"
      ]
     },
     "execution_count": 89,
     "metadata": {},
     "output_type": "execute_result"
    }
   ],
   "source": [
    "import graphviz \n",
    "dot_data = tree.export_graphviz(clf, out_file=None) \n",
    "graph = graphviz.Source(dot_data) \n",
    "graph.render(\"ACE\") "
   ]
  },
  {
   "cell_type": "code",
   "execution_count": 88,
   "metadata": {},
   "outputs": [
    {
     "data": {
      "image/svg+xml": [
       "<?xml version=\"1.0\" encoding=\"UTF-8\" standalone=\"no\"?>\n",
       "<!DOCTYPE svg PUBLIC \"-//W3C//DTD SVG 1.1//EN\"\n",
       " \"http://www.w3.org/Graphics/SVG/1.1/DTD/svg11.dtd\">\n",
       "<!-- Generated by graphviz version 2.40.1 (20161225.0304)\n",
       " -->\n",
       "<!-- Title: Tree Pages: 1 -->\n",
       "<svg width=\"129pt\" height=\"61pt\"\n",
       " viewBox=\"0.00 0.00 129.00 61.00\" xmlns=\"http://www.w3.org/2000/svg\" xmlns:xlink=\"http://www.w3.org/1999/xlink\">\n",
       "<g id=\"graph0\" class=\"graph\" transform=\"scale(1 1) rotate(0) translate(4 57)\">\n",
       "<title>Tree</title>\n",
       "<polygon fill=\"#ffffff\" stroke=\"transparent\" points=\"-4,4 -4,-57 125,-57 125,4 -4,4\"/>\n",
       "<!-- 0 -->\n",
       "<g id=\"node1\" class=\"node\">\n",
       "<title>0</title>\n",
       "<path fill=\"transparent\" stroke=\"#000000\" d=\"M109,-53C109,-53 12,-53 12,-53 6,-53 0,-47 0,-41 0,-41 0,-12 0,-12 0,-6 6,0 12,0 12,0 109,0 109,0 115,0 121,-6 121,-12 121,-12 121,-41 121,-41 121,-47 115,-53 109,-53\"/>\n",
       "<text text-anchor=\"start\" x=\"32.5\" y=\"-37.8\" font-family=\"Helvetica,sans-Serif\" font-size=\"14.00\" fill=\"#000000\">gini = 0.0</text>\n",
       "<text text-anchor=\"start\" x=\"8\" y=\"-22.8\" font-family=\"Helvetica,sans-Serif\" font-size=\"14.00\" fill=\"#000000\">samples = 27509</text>\n",
       "<text text-anchor=\"start\" x=\"12\" y=\"-7.8\" font-family=\"Helvetica,sans-Serif\" font-size=\"14.00\" fill=\"#000000\">value = 27509.0</text>\n",
       "</g>\n",
       "</g>\n",
       "</svg>\n"
      ],
      "text/plain": [
       "<graphviz.files.Source at 0x7f046cc50a20>"
      ]
     },
     "execution_count": 88,
     "metadata": {},
     "output_type": "execute_result"
    }
   ],
   "source": [
    "dot_data = tree.export_graphviz(clf, out_file=None,   \n",
    "                         filled=True, rounded=True,  \n",
    "                         special_characters=True)  \n",
    "graph = graphviz.Source(dot_data)  \n",
    "graph "
   ]
  },
  {
   "cell_type": "code",
   "execution_count": 153,
   "metadata": {},
   "outputs": [],
   "source": [
    "import pickle\n",
    "# now you can save it to a file\n",
    "with open('Melt.pkl', 'wb') as f:\n",
    "    pickle.dump(clf, f)"
   ]
  },
  {
   "cell_type": "code",
   "execution_count": null,
   "metadata": {},
   "outputs": [],
   "source": []
  }
 ],
 "metadata": {
  "kernelspec": {
   "display_name": "Python 3",
   "language": "python",
   "name": "python3"
  },
  "language_info": {
   "codemirror_mode": {
    "name": "ipython",
    "version": 3
   },
   "file_extension": ".py",
   "mimetype": "text/x-python",
   "name": "python",
   "nbconvert_exporter": "python",
   "pygments_lexer": "ipython3",
   "version": "3.6.6"
  }
 },
 "nbformat": 4,
 "nbformat_minor": 2
}
