{
 "cells": [
  {
   "cell_type": "code",
   "execution_count": 1,
   "metadata": {},
   "outputs": [],
   "source": [
    "import pandas as pd\n",
    "import numpy as np"
   ]
  },
  {
   "cell_type": "code",
   "execution_count": 2,
   "metadata": {},
   "outputs": [],
   "source": [
    "df = pd.read_csv(\"Lead_Data.csv\")"
   ]
  },
  {
   "cell_type": "code",
   "execution_count": 3,
   "metadata": {},
   "outputs": [
    {
     "data": {
      "text/html": [
       "<div>\n",
       "<style scoped>\n",
       "    .dataframe tbody tr th:only-of-type {\n",
       "        vertical-align: middle;\n",
       "    }\n",
       "\n",
       "    .dataframe tbody tr th {\n",
       "        vertical-align: top;\n",
       "    }\n",
       "\n",
       "    .dataframe thead th {\n",
       "        text-align: right;\n",
       "    }\n",
       "</style>\n",
       "<table border=\"1\" class=\"dataframe\">\n",
       "  <thead>\n",
       "    <tr style=\"text-align: right;\">\n",
       "      <th></th>\n",
       "      <th>Unnamed: 0</th>\n",
       "      <th>Account_ID</th>\n",
       "      <th>Account_Type</th>\n",
       "      <th>Contact Title</th>\n",
       "      <th>Lead_Source</th>\n",
       "      <th>HasOptedOutOfEmail</th>\n",
       "      <th>Annual_Revenue_in_USD</th>\n",
       "      <th>Annual_Sales_Volume</th>\n",
       "      <th>Visits</th>\n",
       "      <th>Page_Views</th>\n",
       "      <th>...</th>\n",
       "      <th>Lead_Category</th>\n",
       "      <th>Lead_SubCategory</th>\n",
       "      <th>Parent_Consortium</th>\n",
       "      <th>Brand</th>\n",
       "      <th>Product_Category</th>\n",
       "      <th>Industry</th>\n",
       "      <th>Intent_of_Sample</th>\n",
       "      <th>Industry_Category</th>\n",
       "      <th>Employee_Count</th>\n",
       "      <th>PIE_Region</th>\n",
       "    </tr>\n",
       "  </thead>\n",
       "  <tbody>\n",
       "    <tr>\n",
       "      <th>0</th>\n",
       "      <td>0</td>\n",
       "      <td>A1</td>\n",
       "      <td>End User</td>\n",
       "      <td>Senior Account Manager</td>\n",
       "      <td>ESamples</td>\n",
       "      <td>False</td>\n",
       "      <td>436218073</td>\n",
       "      <td>471636073</td>\n",
       "      <td>33</td>\n",
       "      <td>3</td>\n",
       "      <td>...</td>\n",
       "      <td>Aggregate</td>\n",
       "      <td>Inbound Inquiry</td>\n",
       "      <td>Plantone Sciences LLC</td>\n",
       "      <td>Velvesil</td>\n",
       "      <td>Crosslinking and Adhesion Promotion</td>\n",
       "      <td>Automotive</td>\n",
       "      <td>Research &amp; Development</td>\n",
       "      <td>Pesticides</td>\n",
       "      <td>100-499</td>\n",
       "      <td>EUR</td>\n",
       "    </tr>\n",
       "    <tr>\n",
       "      <th>1</th>\n",
       "      <td>1</td>\n",
       "      <td>A2</td>\n",
       "      <td>End User</td>\n",
       "      <td>Manager- Purchasing</td>\n",
       "      <td>Data.com</td>\n",
       "      <td>False</td>\n",
       "      <td>300975171</td>\n",
       "      <td>401435517</td>\n",
       "      <td>6</td>\n",
       "      <td>4</td>\n",
       "      <td>...</td>\n",
       "      <td>Affiliate</td>\n",
       "      <td>Manufacturing Aide</td>\n",
       "      <td>Frowns Manufacturing, LLC</td>\n",
       "      <td>OphthaSil</td>\n",
       "      <td>Elastomers</td>\n",
       "      <td>Beauty and Personal Care</td>\n",
       "      <td>Research &amp; Development</td>\n",
       "      <td>Fabricated Structure Manufacturing</td>\n",
       "      <td>50-99</td>\n",
       "      <td>AMER</td>\n",
       "    </tr>\n",
       "    <tr>\n",
       "      <th>2</th>\n",
       "      <td>2</td>\n",
       "      <td>A3</td>\n",
       "      <td>Direct</td>\n",
       "      <td>Senior Account Manager</td>\n",
       "      <td>ESamples</td>\n",
       "      <td>False</td>\n",
       "      <td>386125764</td>\n",
       "      <td>222362830</td>\n",
       "      <td>5</td>\n",
       "      <td>4</td>\n",
       "      <td>...</td>\n",
       "      <td>Aggregate</td>\n",
       "      <td>Inbound Inquiry</td>\n",
       "      <td>Plantone Sciences LLC</td>\n",
       "      <td>CoatOSil</td>\n",
       "      <td>Quartz</td>\n",
       "      <td>Consumer Goods</td>\n",
       "      <td>Looking for Alternatives</td>\n",
       "      <td>Pesticides</td>\n",
       "      <td>100-499</td>\n",
       "      <td>CAN</td>\n",
       "    </tr>\n",
       "    <tr>\n",
       "      <th>3</th>\n",
       "      <td>3</td>\n",
       "      <td>A4</td>\n",
       "      <td>Ship To</td>\n",
       "      <td>Vice President- Purchasing</td>\n",
       "      <td>Trade Shows</td>\n",
       "      <td>True</td>\n",
       "      <td>465933193</td>\n",
       "      <td>42398331</td>\n",
       "      <td>3</td>\n",
       "      <td>0</td>\n",
       "      <td>...</td>\n",
       "      <td>Field</td>\n",
       "      <td>Manufacturing Conference</td>\n",
       "      <td>C J Moore, Inc</td>\n",
       "      <td>PEarlene</td>\n",
       "      <td>Grease</td>\n",
       "      <td>Tapes and Labels</td>\n",
       "      <td>Research &amp; Development</td>\n",
       "      <td>Metal Manufacturing</td>\n",
       "      <td>&lt;50</td>\n",
       "      <td>AMER</td>\n",
       "    </tr>\n",
       "    <tr>\n",
       "      <th>4</th>\n",
       "      <td>4</td>\n",
       "      <td>A5</td>\n",
       "      <td>Distributor</td>\n",
       "      <td>Vice President- Distributors</td>\n",
       "      <td>Data.com</td>\n",
       "      <td>True</td>\n",
       "      <td>315535140</td>\n",
       "      <td>419133696</td>\n",
       "      <td>7</td>\n",
       "      <td>0</td>\n",
       "      <td>...</td>\n",
       "      <td>Field</td>\n",
       "      <td>Manufacturing Conference</td>\n",
       "      <td>Bristannia Commodities</td>\n",
       "      <td>Indusil</td>\n",
       "      <td>Elastomers</td>\n",
       "      <td>Oil and Gas</td>\n",
       "      <td>Looking for Alternatives</td>\n",
       "      <td>FMCG Items</td>\n",
       "      <td>1000+</td>\n",
       "      <td>CENTRAL ASIA</td>\n",
       "    </tr>\n",
       "  </tbody>\n",
       "</table>\n",
       "<p>5 rows × 28 columns</p>\n",
       "</div>"
      ],
      "text/plain": [
       "   Unnamed: 0 Account_ID   Account_Type                 Contact Title  \\\n",
       "0           0         A1       End User        Senior Account Manager   \n",
       "1           1         A2       End User           Manager- Purchasing   \n",
       "2           2         A3        Direct         Senior Account Manager   \n",
       "3           3         A4        Ship To    Vice President- Purchasing   \n",
       "4           4         A5   Distributor   Vice President- Distributors   \n",
       "\n",
       "   Lead_Source  HasOptedOutOfEmail  Annual_Revenue_in_USD  \\\n",
       "0     ESamples               False              436218073   \n",
       "1     Data.com               False              300975171   \n",
       "2     ESamples               False              386125764   \n",
       "3  Trade Shows                True              465933193   \n",
       "4     Data.com                True              315535140   \n",
       "\n",
       "   Annual_Sales_Volume  Visits  Page_Views      ...       Lead_Category  \\\n",
       "0            471636073      33           3      ...           Aggregate   \n",
       "1            401435517       6           4      ...           Affiliate   \n",
       "2            222362830       5           4      ...           Aggregate   \n",
       "3             42398331       3           0      ...               Field   \n",
       "4            419133696       7           0      ...               Field   \n",
       "\n",
       "           Lead_SubCategory          Parent_Consortium     Brand   \\\n",
       "0           Inbound Inquiry      Plantone Sciences LLC   Velvesil   \n",
       "1        Manufacturing Aide  Frowns Manufacturing, LLC  OphthaSil   \n",
       "2           Inbound Inquiry      Plantone Sciences LLC   CoatOSil   \n",
       "3  Manufacturing Conference             C J Moore, Inc   PEarlene   \n",
       "4  Manufacturing Conference     Bristannia Commodities    Indusil   \n",
       "\n",
       "                      Product_Category                  Industry  \\\n",
       "0  Crosslinking and Adhesion Promotion                Automotive   \n",
       "1                           Elastomers  Beauty and Personal Care   \n",
       "2                               Quartz            Consumer Goods   \n",
       "3                               Grease          Tapes and Labels   \n",
       "4                           Elastomers               Oil and Gas   \n",
       "\n",
       "           Intent_of_Sample                   Industry_Category  \\\n",
       "0    Research & Development                          Pesticides   \n",
       "1    Research & Development  Fabricated Structure Manufacturing   \n",
       "2  Looking for Alternatives                          Pesticides   \n",
       "3    Research & Development                 Metal Manufacturing   \n",
       "4  Looking for Alternatives                          FMCG Items   \n",
       "\n",
       "  Employee_Count    PIE_Region  \n",
       "0        100-499           EUR  \n",
       "1          50-99          AMER  \n",
       "2        100-499           CAN  \n",
       "3            <50          AMER  \n",
       "4          1000+  CENTRAL ASIA  \n",
       "\n",
       "[5 rows x 28 columns]"
      ]
     },
     "execution_count": 3,
     "metadata": {},
     "output_type": "execute_result"
    }
   ],
   "source": [
    "df.head()"
   ]
  },
  {
   "cell_type": "code",
   "execution_count": 4,
   "metadata": {},
   "outputs": [
    {
     "data": {
      "text/plain": [
       "Unnamed: 0                             int64\n",
       "Account_ID                            object\n",
       "Account_Type                          object\n",
       "Contact Title                         object\n",
       "Lead_Source                           object\n",
       "HasOptedOutOfEmail                      bool\n",
       "Annual_Revenue_in_USD                  int64\n",
       "Annual_Sales_Volume                    int64\n",
       "Visits                                 int64\n",
       "Page_Views                             int64\n",
       "Submissions                            int64\n",
       "Has_Become_Customer                   object\n",
       "No_of_accepted_items                   int64\n",
       "No_of_rejected_items                   int64\n",
       "Days_bw_lead_creation_and_item_req     int64\n",
       "Single_Purchase_amount                 int64\n",
       "Purchase_frequency_in_months           int64\n",
       "Sample_Requested                      object\n",
       "Lead_Category                         object\n",
       "Lead_SubCategory                      object\n",
       "Parent_Consortium                     object\n",
       "Brand                                 object\n",
       "Product_Category                      object\n",
       "Industry                              object\n",
       "Intent_of_Sample                      object\n",
       "Industry_Category                     object\n",
       "Employee_Count                        object\n",
       "PIE_Region                            object\n",
       "dtype: object"
      ]
     },
     "execution_count": 4,
     "metadata": {},
     "output_type": "execute_result"
    }
   ],
   "source": [
    "df.dtypes"
   ]
  },
  {
   "cell_type": "code",
   "execution_count": 5,
   "metadata": {},
   "outputs": [],
   "source": [
    "cols = ['Lead_Category','Lead_Source']"
   ]
  },
  {
   "cell_type": "code",
   "execution_count": 7,
   "metadata": {},
   "outputs": [],
   "source": [
    "df = df[cols]"
   ]
  },
  {
   "cell_type": "code",
   "execution_count": 10,
   "metadata": {},
   "outputs": [],
   "source": [
    "from sklearn.preprocessing import LabelEncoder"
   ]
  },
  {
   "cell_type": "code",
   "execution_count": 19,
   "metadata": {},
   "outputs": [],
   "source": [
    "encoder = LabelEncoder()\n",
    "encoder.fit(df['Lead_Source'])\n",
    "np.save('classes.npy', encoder.classes_)"
   ]
  },
  {
   "cell_type": "code",
   "execution_count": 20,
   "metadata": {},
   "outputs": [
    {
     "data": {
      "text/plain": [
       "array(['Data.com', 'ESamples', 'Other', 'SOPS', 'Trade Shows', 'Web'],\n",
       "      dtype=object)"
      ]
     },
     "execution_count": 20,
     "metadata": {},
     "output_type": "execute_result"
    }
   ],
   "source": [
    "encoder.classes_ = ['Data.com', 'ESamples', 'Other', 'SOPS', 'Trade Shows', 'Web']"
   ]
  },
  {
   "cell_type": "code",
   "execution_count": 39,
   "metadata": {},
   "outputs": [
    {
     "data": {
      "text/plain": [
       "Index(['Affiliate', 'Aggregate', 'Field'], dtype='object')"
      ]
     },
     "execution_count": 39,
     "metadata": {},
     "output_type": "execute_result"
    }
   ],
   "source": [
    "df['Lead_Category'].value_counts().keys().sort_values()"
   ]
  },
  {
   "cell_type": "code",
   "execution_count": 38,
   "metadata": {},
   "outputs": [
    {
     "data": {
      "text/plain": [
       "array([4, 3, 4, 2, 2, 5, 1, 1, 2, 5, 1, 5, 3, 5, 3, 5, 0, 2, 1, 4, 3, 0,\n",
       "       2, 4, 2, 1, 5, 5, 5, 3, 1, 5, 0, 5, 5, 5, 3, 1, 2, 5, 3, 4, 1, 1,\n",
       "       1, 2, 0, 0, 3, 2, 0, 4, 5, 1, 3, 0, 4, 1, 0, 4, 0, 0, 5, 1, 1, 0,\n",
       "       2, 4, 5, 1, 1, 0, 0, 0, 2, 5, 5, 5, 4, 3, 4, 0, 1, 4, 2, 1, 4, 0,\n",
       "       2, 4, 1, 3, 1, 2, 3, 2, 4, 0, 0, 0])"
      ]
     },
     "execution_count": 38,
     "metadata": {},
     "output_type": "execute_result"
    }
   ],
   "source": [
    "encoder.transform(df['Lead_Source'])[-100:]"
   ]
  },
  {
   "cell_type": "code",
   "execution_count": null,
   "metadata": {},
   "outputs": [],
   "source": []
  }
 ],
 "metadata": {
  "kernelspec": {
   "display_name": "Python 3",
   "language": "python",
   "name": "python3"
  },
  "language_info": {
   "codemirror_mode": {
    "name": "ipython",
    "version": 3
   },
   "file_extension": ".py",
   "mimetype": "text/x-python",
   "name": "python",
   "nbconvert_exporter": "python",
   "pygments_lexer": "ipython3",
   "version": "3.5.5"
  }
 },
 "nbformat": 4,
 "nbformat_minor": 2
}
